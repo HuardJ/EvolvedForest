{
 "cells": [
  {
   "cell_type": "markdown",
   "metadata": {},
   "source": [
    "# Import and Feature Selection"
   ]
  },
  {
   "cell_type": "markdown",
   "metadata": {},
   "source": [
    "New York City Airbnb Dataset is available through Kaggle - save to local data folder:\n",
    "\n",
    "https://www.kaggle.com/dgomonov/new-york-city-airbnb-open-data\n",
    "\n",
    "The data is cleaned to focus on listings for tourists.\n",
    "\n",
    "Cleaning process:\n",
    " - Listings with prices under 25 removed\n",
    " - Listings must have more than 0 for availability_365\n",
    " - Minimum nights should be less than 32\n",
    " - Fill null values in reviews_per_month with zeros\n",
    " \n",
    " \n",
    "#### Import data and modules"
   ]
  },
  {
   "cell_type": "code",
   "execution_count": 7,
   "metadata": {},
   "outputs": [],
   "source": [
    "import pandas as pd\n",
    "from sklearn import preprocessing as preproc\n",
    "from sklearn import model_selection as ms\n",
    "import matplotlib.pyplot as plt\n",
    "import seaborn as sns\n",
    "import numpy as np\n",
    "import copy\n",
    "from sklearn.ensemble import RandomForestRegressor\n",
    "import sklearn.metrics as met\n",
    "\n",
    "directory = r'.\\data\\AB_NYC_2019.csv'\n",
    "\n",
    "bnb = pd.read_csv(directory)\n",
    "bnb = bnb[bnb['price'] >= 25] # Listings with price under 25 removed\n",
    "bnb = bnb[bnb['availability_365'] > 0] # Listings must have availability\n",
    "bnb = bnb[bnb['minimum_nights'] <= 32] # Short-term stays for tourists\n",
    "bnb['reviews_per_month'] = bnb['reviews_per_month'].fillna(0)"
   ]
  },
  {
   "cell_type": "markdown",
   "metadata": {},
   "source": [
    "#### Encode room_type"
   ]
  },
  {
   "cell_type": "code",
   "execution_count": 9,
   "metadata": {},
   "outputs": [],
   "source": [
    "encode = preproc.LabelEncoder()\n",
    "encode.fit(list(bnb['room_type'].unique()))\n",
    "bnb['room_type'] = encode.transform(bnb['room_type'])"
   ]
  },
  {
   "cell_type": "markdown",
   "metadata": {},
   "source": [
    "#### Random Forest Reggressor\n",
    "\n",
    "Feature space:\n",
    "\n",
    " - room_type\n",
    " - price\n",
    " - minimum_nights\n",
    " - calculated_host_listings_count\n",
    " - availability_365\n",
    " \n",
    "Predicting:\n",
    "\n",
    " - reviews_per_month"
   ]
  },
  {
   "cell_type": "code",
   "execution_count": 10,
   "metadata": {},
   "outputs": [
    {
     "name": "stdout",
     "output_type": "stream",
     "text": [
      "Done!\n"
     ]
    }
   ],
   "source": [
    "trees = 1000\n",
    "\n",
    "X_cols = ['room_type','price','minimum_nights','calculated_host_listings_count','availability_365']\n",
    "y_col = 'reviews_per_month'\n",
    "\n",
    "model_performance = dict()\n",
    "\n",
    "train_X,test_X,train_y,test_y = ms.train_test_split(bnb[X_cols],bnb[y_col],train_size = 0.8,random_state = 42)\n",
    "\n",
    "model = RandomForestRegressor(n_estimators = trees, oob_score = True).fit(train_X,train_y)\n",
    "\n",
    "model_performance['train'] = model.score(train_X,train_y)\n",
    "model_performance['oob'] = model.oob_score_ \n",
    "        \n",
    "print('Done!')"
   ]
  },
  {
   "cell_type": "code",
   "execution_count": 11,
   "metadata": {},
   "outputs": [
    {
     "data": {
      "text/plain": [
       "{'train': 0.8508436363070633, 'oob': 0.14076317782541314}"
      ]
     },
     "execution_count": 11,
     "metadata": {},
     "output_type": "execute_result"
    }
   ],
   "source": [
    "model_performance"
   ]
  },
  {
   "cell_type": "code",
   "execution_count": 16,
   "metadata": {
    "scrolled": true
   },
   "outputs": [
    {
     "data": {
      "text/plain": [
       "<matplotlib.legend.Legend at 0x2606a0d4f10>"
      ]
     },
     "execution_count": 16,
     "metadata": {},
     "output_type": "execute_result"
    },
    {
     "data": {
      "image/png": "[encoded data removed]",
      "text/plain": [
       "<Figure size 1080x576 with 1 Axes>"
      ]
     },
     "metadata": {
      "needs_background": "light"
     },
     "output_type": "display_data"
    }
   ],
   "source": [
    "test_df = pd.merge(test_X,test_y,left_index = True,right_index = True).reset_index(drop=True)\n",
    "\n",
    "sample_size = 50\n",
    "sample = test_df.sample(sample_size)\n",
    "\n",
    "predictions = list(model.predict(sample.iloc[:,:-1]))\n",
    "real = list(sample['reviews_per_month'])\n",
    "\n",
    "plt.figure(figsize=(15,8))\n",
    "plt.bar(x = range(sample_size),height = real,color = 'b',alpha = 0.5,label = 'Real number_of_reviews')\n",
    "plt.bar(x = range(sample_size),height = predictions,width = 0.4,color = 'r',alpha = 0.5, label = 'Predicted number_of_reviews')\n",
    "plt.title('Model performance over ' + str(sample_size) + ' test samples')\n",
    "plt.legend()"
   ]
  }
 ],
 "metadata": {
  "kernelspec": {
   "display_name": "Python 3",
   "language": "python",
   "name": "python3"
  },
  "language_info": {
   "codemirror_mode": {
    "name": "ipython",
    "version": 3
   },
   "file_extension": ".py",
   "mimetype": "text/x-python",
   "name": "python",
   "nbconvert_exporter": "python",
   "pygments_lexer": "ipython3",
   "version": "3.8.10"
  }
 },
 "nbformat": 4,
 "nbformat_minor": 4
}
