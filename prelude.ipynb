{
 "cells": [
  {
   "cell_type": "markdown",
   "metadata": {},
   "source": [
    "# Import and Feature Selection"
   ]
  },
  {
   "cell_type": "markdown",
   "metadata": {},
   "source": [
    "New York City Airbnb Dataset is available through Kaggle - save to local data folder:\n",
    "\n",
    "https://www.kaggle.com/dgomonov/new-york-city-airbnb-open-data\n",
    "\n",
    "The data is cleaned to focus on listings for tourists.\n",
    "\n",
    "Cleaning process:\n",
    " - Listings with prices under 25 removed\n",
    " - Listings must have more than 0 for availability_365\n",
    " - Minimum nights should be less than 32\n",
    " - Fill null values in reviews_per_month with zeros\n",
    " - Must have at least 1 review (no reviews makes it impossible to know how long the listing has been available for)\n",
    " - last_review column converted to datetime\n",
    " - months listed calculated\n",
    " \n",
    " \n",
    "#### Import data and modules"
   ]
  },
  {
   "cell_type": "code",
   "execution_count": 76,
   "metadata": {},
   "outputs": [
    {
     "name": "stdout",
     "output_type": "stream",
     "text": [
      "Number of records: 25877\n",
      "Number of features: 17\n"
     ]
    }
   ],
   "source": [
    "import pandas as pd\n",
    "from sklearn.preprocessing import LabelEncoder\n",
    "from sklearn.model_selection import train_test_split\n",
    "import matplotlib.pyplot as plt\n",
    "from sklearn.ensemble import RandomForestRegressor\n",
    "\n",
    "directory = r'.\\data\\AB_NYC_2019.csv'\n",
    "\n",
    "bnb = pd.read_csv(directory)\n",
    "bnb = bnb[bnb['price'] >= 25] # Listings with price under 25 removed\n",
    "bnb = bnb[bnb['availability_365'] > 0] # Listings must have availability\n",
    "bnb = bnb[bnb['minimum_nights'] <= 32] # Short-term stays for tourists\n",
    "bnb = bnb[bnb['number_of_reviews'] > 0] # At least 1 review\n",
    "bnb['months'] = bnb['number_of_reviews']/bnb['reviews_per_month'] # Months listed for\n",
    "\n",
    "print(\"Number of records: {}\\nNumber of features: {}\".format(bnb.shape[0],bnb.shape[1]))"
   ]
  },
  {
   "cell_type": "markdown",
   "metadata": {},
   "source": [
    "#### Encode room_type"
   ]
  },
  {
   "cell_type": "code",
   "execution_count": 70,
   "metadata": {},
   "outputs": [],
   "source": [
    "encode = LabelEncoder()\n",
    "encode.fit(list(bnb['room_type'].unique()))\n",
    "bnb['room_type'] = encode.transform(bnb['room_type'])"
   ]
  },
  {
   "cell_type": "markdown",
   "metadata": {},
   "source": [
    "#### Random Forest Reggressor\n",
    "\n",
    "Feature space:\n",
    "\n",
    " - room_type\n",
    " - price\n",
    " - minimum_nights\n",
    " - calculated_host_listings_count\n",
    " - availability_365\n",
    " - months\n",
    " \n",
    "Predicting:\n",
    "\n",
    " - number_of_reviews"
   ]
  },
  {
   "cell_type": "code",
   "execution_count": 72,
   "metadata": {},
   "outputs": [
    {
     "name": "stdout",
     "output_type": "stream",
     "text": [
      "{'train': 0.9284571955230057, 'oob': 0.470847252294158}\n"
     ]
    }
   ],
   "source": [
    "trees = 1000\n",
    "\n",
    "X_cols = ['room_type','price','minimum_nights','calculated_host_listings_count','availability_365','months']\n",
    "y_col = 'number_of_reviews'\n",
    "\n",
    "model_performance = dict()\n",
    "\n",
    "train_X,test_X,train_y,test_y = train_test_split(bnb[X_cols],bnb[y_col],train_size = 0.8,random_state = 42)\n",
    "\n",
    "model = RandomForestRegressor(n_estimators = trees, oob_score = True).fit(train_X,train_y)\n",
    "\n",
    "model_performance['train'] = model.score(train_X,train_y)\n",
    "model_performance['oob'] = model.oob_score_ \n",
    "        \n",
    "print(model_performance)"
   ]
  },
  {
   "cell_type": "code",
   "execution_count": 74,
   "metadata": {
    "scrolled": true
   },
   "outputs": [
    {
     "data": {
      "text/plain": [
       "<matplotlib.legend.Legend at 0x25656e009a0>"
      ]
     },
     "execution_count": 74,
     "metadata": {},
     "output_type": "execute_result"
    },
    {
     "data": {
      "image/png": "[encoded data removed]",
      "text/plain": [
       "<Figure size 1080x576 with 1 Axes>"
      ]
     },
     "metadata": {
      "needs_background": "light"
     },
     "output_type": "display_data"
    }
   ],
   "source": [
    "test_df = pd.merge(test_X,test_y,left_index = True,right_index = True).reset_index(drop=True)\n",
    "\n",
    "sample_size = 50\n",
    "sample = test_df.sample(sample_size)\n",
    "\n",
    "predictions = list(model.predict(sample.iloc[:,:-1]))\n",
    "real = list(sample['number_of_reviews'])\n",
    "\n",
    "plt.figure(figsize=(15,8))\n",
    "plt.bar(x = range(sample_size),height = real,color = 'b',alpha = 0.5,label = 'Real number_of_reviews')\n",
    "plt.bar(x = range(sample_size),height = predictions,width = 0.4,color = 'r',alpha = 0.5, label = 'Predicted number_of_reviews')\n",
    "plt.title('Model performance over ' + str(sample_size) + ' test samples')\n",
    "plt.legend()"
   ]
  }
 ],
 "metadata": {
  "kernelspec": {
   "display_name": "Python 3",
   "language": "python",
   "name": "python3"
  },
  "language_info": {
   "codemirror_mode": {
    "name": "ipython",
    "version": 3
   },
   "file_extension": ".py",
   "mimetype": "text/x-python",
   "name": "python",
   "nbconvert_exporter": "python",
   "pygments_lexer": "ipython3",
   "version": "3.8.10"
  }
 },
 "nbformat": 4,
 "nbformat_minor": 4
}
